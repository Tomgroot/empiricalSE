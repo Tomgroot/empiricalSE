{
 "cells": [
  {
   "cell_type": "code",
   "execution_count": 2,
   "id": "024df4de",
   "metadata": {},
   "outputs": [],
   "source": [
    "import pandas as pd\n",
    "import numpy as np"
   ]
  },
  {
   "cell_type": "code",
   "execution_count": 3,
   "id": "8a614a9f",
   "metadata": {},
   "outputs": [],
   "source": [
    "\n",
    "df_python_nov = pd.read_xml('xml_data/python/pythongeneralNov2019.xml.out')\n",
    "df_python_dec = pd.read_xml('xml_data/python/pythongeneralDec2019.xml.out')\n",
    "df_python_jan = pd.read_xml('xml_data/python/pythongeneralJan2020.xml.out')\n",
    "df_python_feb = pd.read_xml('xml_data/python/pythongeneralFeb2020.xml.out')\n",
    "df_python_maa = pd.read_xml('xml_data/python/pythongeneralMar2020.xml.out')\n",
    "df_python_apr = pd.read_xml('xml_data/python/pythongeneralApr2020.xml.out')\n",
    "df_python_mei = pd.read_xml('xml_data/python/pythongeneralMay2020.xml.out')\n",
    "df_python_jun = pd.read_xml('xml_data/python/pythongeneralJun2020.xml.out')\n",
    "df_python_jul = pd.read_xml('xml_data/python/pythongeneralJul2020.xml.out')\n",
    "df_python_aug = pd.read_xml('xml_data/python/pythongeneralAug2020.xml.out')\n",
    "df_python_sep = pd.read_xml('xml_data/python/pythongeneralSep2020.xml.out')\n",
    "df_python_okt = pd.read_xml('xml_data/python/pythongeneralOct2020.xml.out')\n",
    "\n",
    "df_python_full = pd.concat(\n",
    "    [df_python_nov[4:], df_python_dec[4:], df_python_jan[4:], df_python_feb[4:], df_python_maa[4:], df_python_apr[4:], \n",
    "     df_python_mei[4:], df_python_jun[4:], df_python_jul[4:], df_python_aug[4:], df_python_sep[4:], df_python_okt[4:]],\n",
    ")\n",
    "\n",
    "df_python = df_python_full.drop(['team_domain', 'channel_name', 'start_date', 'end_date'], axis=1)\\\n",
    ".reset_index().drop(['index'], axis=1)\n",
    "df_python.index = np.arange(1, len(df_python) + 1)\n",
    "df_python.to_csv('full_python_df.csv')"
   ]
  },
  {
   "cell_type": "code",
   "execution_count": 8,
   "id": "77975158",
   "metadata": {},
   "outputs": [],
   "source": [
    "df_python.to_csv('python_full_xml.csv')"
   ]
  },
  {
   "cell_type": "code",
   "execution_count": 9,
   "id": "95e9b834",
   "metadata": {},
   "outputs": [
    {
     "name": "stdout",
     "output_type": "stream",
     "text": [
      "Use this dataframe to feed to the senti4SD repo for python\n"
     ]
    },
    {
     "data": {
      "text/html": [
       "<div>\n",
       "<style scoped>\n",
       "    .dataframe tbody tr th:only-of-type {\n",
       "        vertical-align: middle;\n",
       "    }\n",
       "\n",
       "    .dataframe tbody tr th {\n",
       "        vertical-align: top;\n",
       "    }\n",
       "\n",
       "    .dataframe thead th {\n",
       "        text-align: right;\n",
       "    }\n",
       "</style>\n",
       "<table border=\"1\" class=\"dataframe\">\n",
       "  <thead>\n",
       "    <tr style=\"text-align: right;\">\n",
       "      <th></th>\n",
       "      <th>Text</th>\n",
       "    </tr>\n",
       "    <tr>\n",
       "      <th>ID</th>\n",
       "      <th></th>\n",
       "    </tr>\n",
       "  </thead>\n",
       "  <tbody>\n",
       "    <tr>\n",
       "      <th>1</th>\n",
       "      <td>oh noo the orange server's logo is gone</td>\n",
       "    </tr>\n",
       "    <tr>\n",
       "      <th>2</th>\n",
       "      <td>to develop mobile apps:</td>\n",
       "    </tr>\n",
       "    <tr>\n",
       "      <th>3</th>\n",
       "      <td>is it better to learn kivy or to learn another...</td>\n",
       "    </tr>\n",
       "    <tr>\n",
       "      <th>4</th>\n",
       "      <td>someone?</td>\n",
       "    </tr>\n",
       "    <tr>\n",
       "      <th>5</th>\n",
       "      <td>Unity is quite good but if you already have a ...</td>\n",
       "    </tr>\n",
       "  </tbody>\n",
       "</table>\n",
       "</div>"
      ],
      "text/plain": [
       "                                                 Text\n",
       "ID                                                   \n",
       "1             oh noo the orange server's logo is gone\n",
       "2                             to develop mobile apps:\n",
       "3   is it better to learn kivy or to learn another...\n",
       "4                                            someone?\n",
       "5   Unity is quite good but if you already have a ..."
      ]
     },
     "execution_count": 9,
     "metadata": {},
     "output_type": "execute_result"
    }
   ],
   "source": [
    "df_senti4SD_python = df_python.copy()\n",
    "df_senti4SD_python = df_senti4SD_python.drop(['ts', 'conversation_id', 'user'], axis=1)\\\n",
    ".rename(columns={\"text\": \"Text\"})\n",
    "df_senti4SD_python.index.name = 'ID'\n",
    "print('Use this dataframe to feed to the senti4SD repo for python')\n",
    "df_senti4SD_python.to_csv('df_senti4SD_python.csv',sep=';')\n",
    "df_senti4SD_python.head()"
   ]
  },
  {
   "cell_type": "code",
   "execution_count": 4,
   "id": "9c50448b",
   "metadata": {},
   "outputs": [],
   "source": [
    "df_racket_nov_jan = pd.read_xml('xml_data/racket/racketgeneral_Nov2019-Jan2020.xml.out')\n",
    "df_racket_feb_apr = pd.read_xml('xml_data/racket/Racket_general_Feb2020-Apr2020.xml.out')\n",
    "df_racket_may_jul = pd.read_xml('xml_data/racket/Racket_general_May2020-Jul2020.xml.out')\n",
    "df_racket_aug_oct = pd.read_xml('xml_data/racket/Racket_general_Aug2020-Oct2020.xml.out')\n",
    "\n",
    "df_racket_full = pd.concat(\n",
    "    [df_racket_nov_jan[4:], df_racket_feb_apr[4:], df_racket_may_jul[4:], df_racket_aug_oct[4:]],\n",
    ")\n",
    "\n",
    "df_racket = df_racket_full.drop(['team_domain', 'channel_name', 'start_date', 'end_date'], axis=1)\\\n",
    ".reset_index().drop(['index'], axis=1)\n",
    "df_racket.index = np.arange(1, len(df_racket) + 1)\n",
    "df_racket.to_csv('full_racket_df.csv')"
   ]
  },
  {
   "cell_type": "code",
   "execution_count": 11,
   "id": "89f313c5",
   "metadata": {},
   "outputs": [
    {
     "name": "stdout",
     "output_type": "stream",
     "text": [
      "Use this dataframe to feed to the senti4SD repo for racket\n"
     ]
    },
    {
     "data": {
      "text/html": [
       "<div>\n",
       "<style scoped>\n",
       "    .dataframe tbody tr th:only-of-type {\n",
       "        vertical-align: middle;\n",
       "    }\n",
       "\n",
       "    .dataframe tbody tr th {\n",
       "        vertical-align: top;\n",
       "    }\n",
       "\n",
       "    .dataframe thead th {\n",
       "        text-align: right;\n",
       "    }\n",
       "</style>\n",
       "<table border=\"1\" class=\"dataframe\">\n",
       "  <thead>\n",
       "    <tr style=\"text-align: right;\">\n",
       "      <th></th>\n",
       "      <th>Text</th>\n",
       "    </tr>\n",
       "    <tr>\n",
       "      <th>ID</th>\n",
       "      <th></th>\n",
       "    </tr>\n",
       "  </thead>\n",
       "  <tbody>\n",
       "    <tr>\n",
       "      <th>1</th>\n",
       "      <td>Game Jam has started! https://itch.io/jam/rack...</td>\n",
       "    </tr>\n",
       "    <tr>\n",
       "      <th>2</th>\n",
       "      <td>@notjack @Deleted User `Multiple modules can b...</td>\n",
       "    </tr>\n",
       "    <tr>\n",
       "      <th>3</th>\n",
       "      <td>Honestly I'm so proud that I remembered all th...</td>\n",
       "    </tr>\n",
       "    <tr>\n",
       "      <th>4</th>\n",
       "      <td>@notjack for when you're next around. Will try...</td>\n",
       "    </tr>\n",
       "    <tr>\n",
       "      <th>5</th>\n",
       "      <td>gotta love macros xD</td>\n",
       "    </tr>\n",
       "  </tbody>\n",
       "</table>\n",
       "</div>"
      ],
      "text/plain": [
       "                                                 Text\n",
       "ID                                                   \n",
       "1   Game Jam has started! https://itch.io/jam/rack...\n",
       "2   @notjack @Deleted User `Multiple modules can b...\n",
       "3   Honestly I'm so proud that I remembered all th...\n",
       "4   @notjack for when you're next around. Will try...\n",
       "5                                gotta love macros xD"
      ]
     },
     "execution_count": 11,
     "metadata": {},
     "output_type": "execute_result"
    }
   ],
   "source": [
    "df_senti4SD_racket = df_racket.copy()\n",
    "df_senti4SD_racket = df_senti4SD_racket.drop(['ts', 'conversation_id', 'user'], axis=1)\\\n",
    ".rename(columns={\"text\": \"Text\"})\n",
    "df_senti4SD_racket.index.name = 'ID'\n",
    "print('Use this dataframe to feed to the senti4SD repo for racket')\n",
    "df_senti4SD_racket.to_csv('df_senti4SD_racket.csv',sep=';')\n",
    "df_senti4SD_racket.head()"
   ]
  },
  {
   "cell_type": "code",
   "execution_count": 5,
   "id": "f5b164b0",
   "metadata": {},
   "outputs": [],
   "source": [
    "df_clojur_nov_jan = pd.read_xml('xml_data/clojurians/clojure_Nov2019-Jan2020.xml.out')\n",
    "df_clojur_feb_apr = pd.read_xml('xml_data/clojurians/clojure_Feb2020-Apr2020.xml.out')\n",
    "df_clojur_may_jul = pd.read_xml('xml_data/clojurians/clojure_May2020-Jul2020.xml.out')\n",
    "df_clojur_aug_oct = pd.read_xml('xml_data/clojurians/clojure_Aug2020-Oct2020.xml.out')\n",
    "\n",
    "df_clojur_full = pd.concat(\n",
    "    [df_clojur_nov_jan[4:], df_clojur_feb_apr[4:], df_clojur_may_jul[4:], df_clojur_aug_oct[4:]],\n",
    ")\n",
    "\n",
    "df_clojur = df_clojur_full.drop(['team_domain', 'channel_name', 'start_date', 'end_date'], axis=1)\\\n",
    ".reset_index().drop(['index'], axis=1)\n",
    "df_clojur.index = np.arange(1, len(df_clojur) + 1)\n",
    "df_clojur.to_csv('full_clojur_df.csv')"
   ]
  },
  {
   "cell_type": "code",
   "execution_count": 13,
   "id": "40d5eced",
   "metadata": {},
   "outputs": [
    {
     "name": "stdout",
     "output_type": "stream",
     "text": [
      "Use this dataframe to feed to the senti4SD repo for closure\n"
     ]
    },
    {
     "data": {
      "text/html": [
       "<div>\n",
       "<style scoped>\n",
       "    .dataframe tbody tr th:only-of-type {\n",
       "        vertical-align: middle;\n",
       "    }\n",
       "\n",
       "    .dataframe tbody tr th {\n",
       "        vertical-align: top;\n",
       "    }\n",
       "\n",
       "    .dataframe thead th {\n",
       "        text-align: right;\n",
       "    }\n",
       "</style>\n",
       "<table border=\"1\" class=\"dataframe\">\n",
       "  <thead>\n",
       "    <tr style=\"text-align: right;\">\n",
       "      <th></th>\n",
       "      <th>Text</th>\n",
       "    </tr>\n",
       "    <tr>\n",
       "      <th>ID</th>\n",
       "      <th></th>\n",
       "    </tr>\n",
       "  </thead>\n",
       "  <tbody>\n",
       "    <tr>\n",
       "      <th>1</th>\n",
       "      <td>It's generally always possible to write map an...</td>\n",
       "    </tr>\n",
       "    <tr>\n",
       "      <th>2</th>\n",
       "      <td>Some languages it's far more unweildy since in...</td>\n",
       "    </tr>\n",
       "    <tr>\n",
       "      <th>3</th>\n",
       "      <td>Is there a built in heap type in clojure or ho...</td>\n",
       "    </tr>\n",
       "    <tr>\n",
       "      <th>4</th>\n",
       "      <td>Just like in any other language (i.e. arraybas...</td>\n",
       "    </tr>\n",
       "    <tr>\n",
       "      <th>5</th>\n",
       "      <td>... Isn't that basically just a list?</td>\n",
       "    </tr>\n",
       "  </tbody>\n",
       "</table>\n",
       "</div>"
      ],
      "text/plain": [
       "                                                 Text\n",
       "ID                                                   \n",
       "1   It's generally always possible to write map an...\n",
       "2   Some languages it's far more unweildy since in...\n",
       "3   Is there a built in heap type in clojure or ho...\n",
       "4   Just like in any other language (i.e. arraybas...\n",
       "5               ... Isn't that basically just a list?"
      ]
     },
     "execution_count": 13,
     "metadata": {},
     "output_type": "execute_result"
    }
   ],
   "source": [
    "df_senti4SD_clojur = df_clojur.copy()\n",
    "df_senti4SD_clojur = df_senti4SD_clojur.drop(['ts', 'conversation_id', 'user'], axis=1)\\\n",
    ".rename(columns={\"text\": \"Text\"})\n",
    "df_senti4SD_clojur.index.name = 'ID'\n",
    "print('Use this dataframe to feed to the senti4SD repo for closure')\n",
    "df_senti4SD_clojur.to_csv('df_senti4SD_closure.csv',sep=';')\n",
    "df_senti4SD_clojur.head()"
   ]
  },
  {
   "cell_type": "code",
   "execution_count": 6,
   "id": "46154ce7",
   "metadata": {},
   "outputs": [],
   "source": [
    "df_golang_nov_jan = pd.read_xml('xml_data/golang/golang_Nov2019-Jan2020.xml.out')\n",
    "df_golang_feb_apr = pd.read_xml('xml_data/golang/golang_Feb2020-Apr2020.xml.out')\n",
    "df_golang_may_jul = pd.read_xml('xml_data/golang/golang_May2020-Jul2020.xml.out')\n",
    "df_golang_aug_oct = pd.read_xml('xml_data/golang/golang_Aug2020-Sep2020.xml.out')\n",
    "\n",
    "df_golang_full = pd.concat(\n",
    "    [df_golang_nov_jan[4:], df_golang_feb_apr[4:], df_golang_may_jul[4:], df_golang_aug_oct[4:]],\n",
    ")\n",
    "\n",
    "df_golang = df_golang_full.drop(['team_domain', 'channel_name', 'start_date', 'end_date'], axis=1)\\\n",
    ".reset_index().drop(['index'], axis=1)\n",
    "df_golang.index = np.arange(1, len(df_golang) + 1)\n",
    "df_golang.to_csv('full_golang_df.csv')"
   ]
  },
  {
   "cell_type": "code",
   "execution_count": 15,
   "id": "a69f334c",
   "metadata": {},
   "outputs": [
    {
     "name": "stdout",
     "output_type": "stream",
     "text": [
      "Use this dataframe to feed to the senti4SD repo for golang\n"
     ]
    },
    {
     "data": {
      "text/html": [
       "<div>\n",
       "<style scoped>\n",
       "    .dataframe tbody tr th:only-of-type {\n",
       "        vertical-align: middle;\n",
       "    }\n",
       "\n",
       "    .dataframe tbody tr th {\n",
       "        vertical-align: top;\n",
       "    }\n",
       "\n",
       "    .dataframe thead th {\n",
       "        text-align: right;\n",
       "    }\n",
       "</style>\n",
       "<table border=\"1\" class=\"dataframe\">\n",
       "  <thead>\n",
       "    <tr style=\"text-align: right;\">\n",
       "      <th></th>\n",
       "      <th>Text</th>\n",
       "    </tr>\n",
       "    <tr>\n",
       "      <th>ID</th>\n",
       "      <th></th>\n",
       "    </tr>\n",
       "  </thead>\n",
       "  <tbody>\n",
       "    <tr>\n",
       "      <th>1</th>\n",
       "      <td>`2019/11/01 15:41:41 http: panic serving 127.0...</td>\n",
       "    </tr>\n",
       "    <tr>\n",
       "      <th>2</th>\n",
       "      <td>```go_ err = db.Exec(\"INSERT INTO users VALUES...</td>\n",
       "    </tr>\n",
       "    <tr>\n",
       "      <th>3</th>\n",
       "      <td>None</td>\n",
       "    </tr>\n",
       "    <tr>\n",
       "      <th>4</th>\n",
       "      <td>oh boy what do we have here</td>\n",
       "    </tr>\n",
       "    <tr>\n",
       "      <th>5</th>\n",
       "      <td>SQL concat?</td>\n",
       "    </tr>\n",
       "  </tbody>\n",
       "</table>\n",
       "</div>"
      ],
      "text/plain": [
       "                                                 Text\n",
       "ID                                                   \n",
       "1   `2019/11/01 15:41:41 http: panic serving 127.0...\n",
       "2   ```go_ err = db.Exec(\"INSERT INTO users VALUES...\n",
       "3                                                None\n",
       "4                         oh boy what do we have here\n",
       "5                                         SQL concat?"
      ]
     },
     "execution_count": 15,
     "metadata": {},
     "output_type": "execute_result"
    }
   ],
   "source": [
    "df_senti4SD_golang = df_golang.copy()\n",
    "df_senti4SD_golang = df_senti4SD_golang.drop(['ts', 'conversation_id', 'user'], axis=1)\\\n",
    ".rename(columns={\"text\": \"Text\"})\n",
    "df_senti4SD_golang.index.name = 'ID'\n",
    "print('Use this dataframe to feed to the senti4SD repo for golang')\n",
    "df_senti4SD_golang.to_csv('df_senti4SD_golang.csv',sep=';')\n",
    "df_senti4SD_golang.head()"
   ]
  },
  {
   "cell_type": "code",
   "execution_count": 16,
   "id": "354cbe58",
   "metadata": {},
   "outputs": [
    {
     "data": {
      "text/html": [
       "<div>\n",
       "<style scoped>\n",
       "    .dataframe tbody tr th:only-of-type {\n",
       "        vertical-align: middle;\n",
       "    }\n",
       "\n",
       "    .dataframe tbody tr th {\n",
       "        vertical-align: top;\n",
       "    }\n",
       "\n",
       "    .dataframe thead th {\n",
       "        text-align: right;\n",
       "    }\n",
       "</style>\n",
       "<table border=\"1\" class=\"dataframe\">\n",
       "  <thead>\n",
       "    <tr style=\"text-align: right;\">\n",
       "      <th></th>\n",
       "      <th>Text</th>\n",
       "    </tr>\n",
       "    <tr>\n",
       "      <th>ID</th>\n",
       "      <th></th>\n",
       "    </tr>\n",
       "  </thead>\n",
       "  <tbody>\n",
       "    <tr>\n",
       "      <th>1</th>\n",
       "      <td>`2019/11/01 15:41:41 http: panic serving 127.0...</td>\n",
       "    </tr>\n",
       "    <tr>\n",
       "      <th>2</th>\n",
       "      <td>```go_ err = db.Exec(\"INSERT INTO users VALUES...</td>\n",
       "    </tr>\n",
       "    <tr>\n",
       "      <th>3</th>\n",
       "      <td>None</td>\n",
       "    </tr>\n",
       "    <tr>\n",
       "      <th>4</th>\n",
       "      <td>oh boy what do we have here</td>\n",
       "    </tr>\n",
       "    <tr>\n",
       "      <th>5</th>\n",
       "      <td>SQL concat?</td>\n",
       "    </tr>\n",
       "  </tbody>\n",
       "</table>\n",
       "</div>"
      ],
      "text/plain": [
       "                                                 Text\n",
       "ID                                                   \n",
       "1   `2019/11/01 15:41:41 http: panic serving 127.0...\n",
       "2   ```go_ err = db.Exec(\"INSERT INTO users VALUES...\n",
       "3                                                None\n",
       "4                         oh boy what do we have here\n",
       "5                                         SQL concat?"
      ]
     },
     "execution_count": 16,
     "metadata": {},
     "output_type": "execute_result"
    }
   ],
   "source": [
    "df_senti4SD_golang.head()"
   ]
  },
  {
   "cell_type": "code",
   "execution_count": null,
   "id": "96b7cff1",
   "metadata": {},
   "outputs": [],
   "source": []
  }
 ],
 "metadata": {
  "kernelspec": {
   "display_name": "Python 3 (ipykernel)",
   "language": "python",
   "name": "python3"
  },
  "language_info": {
   "codemirror_mode": {
    "name": "ipython",
    "version": 3
   },
   "file_extension": ".py",
   "mimetype": "text/x-python",
   "name": "python",
   "nbconvert_exporter": "python",
   "pygments_lexer": "ipython3",
   "version": "3.8.15"
  }
 },
 "nbformat": 4,
 "nbformat_minor": 5
}
