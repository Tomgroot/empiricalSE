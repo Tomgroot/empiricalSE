{
 "cells": [
  {
   "cell_type": "code",
   "execution_count": 1,
   "id": "60af0485",
   "metadata": {},
   "outputs": [
    {
     "name": "stdout",
     "output_type": "stream",
     "text": [
      "SentiCR/data/so-train.pkl\n"
     ]
    }
   ],
   "source": [
    "import pandas as pd\n",
    "from SentiCR.SentiCR import SentiCR"
   ]
  },
  {
   "cell_type": "markdown",
   "id": "d56c54ee",
   "metadata": {},
   "source": [
    "## Preprocessing"
   ]
  },
  {
   "cell_type": "code",
   "execution_count": 2,
   "id": "afb41061",
   "metadata": {},
   "outputs": [],
   "source": [
    "df_original = pd.read_xml('test.xml')"
   ]
  },
  {
   "cell_type": "code",
   "execution_count": 3,
   "id": "84904639",
   "metadata": {},
   "outputs": [],
   "source": [
    "df = df_original[4:].drop(['team_domain', 'channel_name', 'start_date', 'end_date'], axis=1)"
   ]
  },
  {
   "cell_type": "markdown",
   "id": "cdabe419",
   "metadata": {},
   "source": [
    "### SentiCR preprocessing"
   ]
  },
  {
   "cell_type": "code",
   "execution_count": 4,
   "id": "166ff0cb",
   "metadata": {},
   "outputs": [
    {
     "name": "stdout",
     "output_type": "stream",
     "text": [
      "StackOverflow Reading data from oracle..\n",
      "Training classifier model..\n"
     ]
    },
    {
     "name": "stderr",
     "output_type": "stream",
     "text": [
      "/home/tom/.pyenv/versions/3.7.15/lib/python3.7/site-packages/sklearn/feature_extraction/text.py:401: UserWarning: Your stop_words may be inconsistent with your preprocessing. Tokenizing the stop words generated tokens ['ani', 'continu', 'deleg', 'doe', 'doubl', 'dure', 'els', 'endwhil', 'extend', 'implement', 'includ', 'interfac', 'namespac', 'nativ', 'nowwhil', 'onc', 'ourselv', 'overrid', 'packag', 'privat', 'protect', 'rais', 'readon', 'requir', 'sign', 'synchron', 'themselv', 'tri', 'veri', 'yourselv'] not in stop_words.\n",
      "  % sorted(inconsistent)\n"
     ]
    },
    {
     "name": "stdout",
     "output_type": "stream",
     "text": [
      "Training used 8.74 seconds\n"
     ]
    }
   ],
   "source": [
    "import numpy as np\n",
    "from sklearn.metrics import classification_report\n",
    "import time\n",
    "sentiment_analyzer=SentiCR()\n",
    "def predict_sentiCR(df, column = 'first_message'):\n",
    "    begin=time.time()\n",
    "    sentences=df[column]\n",
    "    pred=[]\n",
    "    for sent in sentences:\n",
    "        score=sentiment_analyzer.get_sentiment_polarity(sent)\n",
    "        pred.append(score)\n",
    "    \n",
    "    end=time.time()\n",
    "    print('Prediction used {:.2f} seconds'.format(end-begin))\n",
    "    return pred"
   ]
  },
  {
   "cell_type": "code",
   "execution_count": 5,
   "id": "cc7a89af",
   "metadata": {},
   "outputs": [],
   "source": [
    "from os.path import exists\n",
    "sentiCR_path = 'preprocessed_sentiCR.csv'\n",
    "\n",
    "if exists(sentiCR_path):\n",
    "    df_sentiCR = pd.read_csv(sentiCR_path)\n",
    "else:\n",
    "    pred_full = predict_sentiCR(df, 'text')\n",
    "    df_sentiCR = df.copy()\n",
    "    df_sentiCR['sentiCR'] = Extract(pred_full)\n",
    "    df_sentiCR['sentiCR'] = df_sentiCR['sentiCR'].replace({2: -1})\n",
    "    df_sentiCR.to_csv(sentiCR_path)"
   ]
  },
  {
   "cell_type": "markdown",
   "id": "91610b9b",
   "metadata": {},
   "source": [
    "### Senti4SD preprocessing\n",
    "For the preprocessing of Senti4SD we do the sentiment score calculation outside this notebook file. Make sure yuo save the csv to predictions_senti4SD.csv"
   ]
  },
  {
   "cell_type": "code",
   "execution_count": 25,
   "id": "3a3110cd",
   "metadata": {
    "scrolled": true
   },
   "outputs": [
    {
     "name": "stdout",
     "output_type": "stream",
     "text": [
      "Use this dataframe to feed to the senti4SD repo\n"
     ]
    },
    {
     "data": {
      "text/html": [
       "<div>\n",
       "<style scoped>\n",
       "    .dataframe tbody tr th:only-of-type {\n",
       "        vertical-align: middle;\n",
       "    }\n",
       "\n",
       "    .dataframe tbody tr th {\n",
       "        vertical-align: top;\n",
       "    }\n",
       "\n",
       "    .dataframe thead th {\n",
       "        text-align: right;\n",
       "    }\n",
       "</style>\n",
       "<table border=\"1\" class=\"dataframe\">\n",
       "  <thead>\n",
       "    <tr style=\"text-align: right;\">\n",
       "      <th></th>\n",
       "      <th>Text</th>\n",
       "    </tr>\n",
       "    <tr>\n",
       "      <th>ID</th>\n",
       "      <th></th>\n",
       "    </tr>\n",
       "  </thead>\n",
       "  <tbody>\n",
       "    <tr>\n",
       "      <th>4</th>\n",
       "      <td>{{ with .Data }} also works</td>\n",
       "    </tr>\n",
       "    <tr>\n",
       "      <th>5</th>\n",
       "      <td>if .Data is invalid it won't be rendered</td>\n",
       "    </tr>\n",
       "    <tr>\n",
       "      <th>6</th>\n",
       "      <td>ah</td>\n",
       "    </tr>\n",
       "    <tr>\n",
       "      <th>7</th>\n",
       "      <td>true</td>\n",
       "    </tr>\n",
       "    <tr>\n",
       "      <th>8</th>\n",
       "      <td>okay okay thank you</td>\n",
       "    </tr>\n",
       "  </tbody>\n",
       "</table>\n",
       "</div>"
      ],
      "text/plain": [
       "                                        Text\n",
       "ID                                          \n",
       "4                {{ with .Data }} also works\n",
       "5   if .Data is invalid it won't be rendered\n",
       "6                                         ah\n",
       "7                                       true\n",
       "8                        okay okay thank you"
      ]
     },
     "execution_count": 25,
     "metadata": {},
     "output_type": "execute_result"
    }
   ],
   "source": [
    "df_senti4SD = df.copy()\n",
    "df_senti4SD = df_senti4SD.drop(['ts', 'conversation_id', 'user'], axis=1).rename(columns={\"text\": \"Text\"})\n",
    "df.index.name = 'ID'\n",
    "print('Use this dataframe to feed to the senti4SD repo')\n",
    "df_senti4SD.to_csv('df_senti4SD.csv',sep=';')\n",
    "df_senti4SD.head()"
   ]
  },
  {
   "cell_type": "code",
   "execution_count": 7,
   "id": "c589282e",
   "metadata": {},
   "outputs": [],
   "source": [
    "senti4SD = pd.read_csv('predictions_senti4SD.csv').sort_values(by=['ID']).set_index('ID')\n",
    "senti4SD['PREDICTED'] = senti4SD['PREDICTED'].replace({'negative': -1, 'neutral': 0, 'positive': 1})"
   ]
  },
  {
   "cell_type": "code",
   "execution_count": 8,
   "id": "80fbfcfc",
   "metadata": {},
   "outputs": [
    {
     "data": {
      "text/html": [
       "<div>\n",
       "<style scoped>\n",
       "    .dataframe tbody tr th:only-of-type {\n",
       "        vertical-align: middle;\n",
       "    }\n",
       "\n",
       "    .dataframe tbody tr th {\n",
       "        vertical-align: top;\n",
       "    }\n",
       "\n",
       "    .dataframe thead th {\n",
       "        text-align: right;\n",
       "    }\n",
       "</style>\n",
       "<table border=\"1\" class=\"dataframe\">\n",
       "  <thead>\n",
       "    <tr style=\"text-align: right;\">\n",
       "      <th></th>\n",
       "      <th>conversation_id</th>\n",
       "      <th>ts</th>\n",
       "      <th>user</th>\n",
       "      <th>text</th>\n",
       "      <th>senti4SD</th>\n",
       "    </tr>\n",
       "    <tr>\n",
       "      <th>ID</th>\n",
       "      <th></th>\n",
       "      <th></th>\n",
       "      <th></th>\n",
       "      <th></th>\n",
       "      <th></th>\n",
       "    </tr>\n",
       "  </thead>\n",
       "  <tbody>\n",
       "    <tr>\n",
       "      <th>4</th>\n",
       "      <td>1.0</td>\n",
       "      <td>2020-08-01T00:01:15.595000</td>\n",
       "      <td>Samarie</td>\n",
       "      <td>{{ with .Data }} also works</td>\n",
       "      <td>0</td>\n",
       "    </tr>\n",
       "    <tr>\n",
       "      <th>5</th>\n",
       "      <td>1.0</td>\n",
       "      <td>2020-08-01T00:01:22.227000</td>\n",
       "      <td>Samarie</td>\n",
       "      <td>if .Data is invalid it won't be rendered</td>\n",
       "      <td>0</td>\n",
       "    </tr>\n",
       "    <tr>\n",
       "      <th>6</th>\n",
       "      <td>1.0</td>\n",
       "      <td>2020-08-01T00:02:50.586000</td>\n",
       "      <td>Cephas</td>\n",
       "      <td>ah</td>\n",
       "      <td>0</td>\n",
       "    </tr>\n",
       "    <tr>\n",
       "      <th>7</th>\n",
       "      <td>1.0</td>\n",
       "      <td>2020-08-01T00:02:51.116000</td>\n",
       "      <td>Cephas</td>\n",
       "      <td>true</td>\n",
       "      <td>0</td>\n",
       "    </tr>\n",
       "    <tr>\n",
       "      <th>8</th>\n",
       "      <td>1.0</td>\n",
       "      <td>2020-08-01T00:02:55.357000</td>\n",
       "      <td>Cephas</td>\n",
       "      <td>okay okay thank you</td>\n",
       "      <td>1</td>\n",
       "    </tr>\n",
       "  </tbody>\n",
       "</table>\n",
       "</div>"
      ],
      "text/plain": [
       "    conversation_id                          ts     user  \\\n",
       "ID                                                         \n",
       "4               1.0  2020-08-01T00:01:15.595000  Samarie   \n",
       "5               1.0  2020-08-01T00:01:22.227000  Samarie   \n",
       "6               1.0  2020-08-01T00:02:50.586000   Cephas   \n",
       "7               1.0  2020-08-01T00:02:51.116000   Cephas   \n",
       "8               1.0  2020-08-01T00:02:55.357000   Cephas   \n",
       "\n",
       "                                        text  senti4SD  \n",
       "ID                                                      \n",
       "4                {{ with .Data }} also works         0  \n",
       "5   if .Data is invalid it won't be rendered         0  \n",
       "6                                         ah         0  \n",
       "7                                       true         0  \n",
       "8                        okay okay thank you         1  "
      ]
     },
     "execution_count": 8,
     "metadata": {},
     "output_type": "execute_result"
    }
   ],
   "source": [
    "senti4SD_df = df.copy()\n",
    "senti4SD_df['senti4SD'] = senti4SD['PREDICTED'].copy()\n",
    "senti4SD_df.to_csv('preprocessed_senti4SD.csv')\n",
    "senti4SD_df.head()"
   ]
  },
  {
   "cell_type": "markdown",
   "id": "c5e852b7",
   "metadata": {},
   "source": [
    "### Calculating the number of messages per conversation"
   ]
  },
  {
   "cell_type": "code",
   "execution_count": 44,
   "id": "baae128f",
   "metadata": {},
   "outputs": [
    {
     "data": {
      "text/html": [
       "<div>\n",
       "<style scoped>\n",
       "    .dataframe tbody tr th:only-of-type {\n",
       "        vertical-align: middle;\n",
       "    }\n",
       "\n",
       "    .dataframe tbody tr th {\n",
       "        vertical-align: top;\n",
       "    }\n",
       "\n",
       "    .dataframe thead th {\n",
       "        text-align: right;\n",
       "    }\n",
       "</style>\n",
       "<table border=\"1\" class=\"dataframe\">\n",
       "  <thead>\n",
       "    <tr style=\"text-align: right;\">\n",
       "      <th></th>\n",
       "      <th>nr_messages</th>\n",
       "    </tr>\n",
       "    <tr>\n",
       "      <th>conversation_id</th>\n",
       "      <th></th>\n",
       "    </tr>\n",
       "  </thead>\n",
       "  <tbody>\n",
       "    <tr>\n",
       "      <th>1.0</th>\n",
       "      <td>7</td>\n",
       "    </tr>\n",
       "    <tr>\n",
       "      <th>2.0</th>\n",
       "      <td>7</td>\n",
       "    </tr>\n",
       "    <tr>\n",
       "      <th>3.0</th>\n",
       "      <td>2</td>\n",
       "    </tr>\n",
       "    <tr>\n",
       "      <th>4.0</th>\n",
       "      <td>85</td>\n",
       "    </tr>\n",
       "    <tr>\n",
       "      <th>5.0</th>\n",
       "      <td>1</td>\n",
       "    </tr>\n",
       "  </tbody>\n",
       "</table>\n",
       "</div>"
      ],
      "text/plain": [
       "                 nr_messages\n",
       "conversation_id             \n",
       "1.0                        7\n",
       "2.0                        7\n",
       "3.0                        2\n",
       "4.0                       85\n",
       "5.0                        1"
      ]
     },
     "execution_count": 44,
     "metadata": {},
     "output_type": "execute_result"
    }
   ],
   "source": [
    "response_df = df['conversation_id'].value_counts().rename_axis('conversation_id').to_frame('nr_messages').sort_index(ascending=True)\n",
    "response_df.head()"
   ]
  },
  {
   "cell_type": "markdown",
   "id": "06b89f59",
   "metadata": {},
   "source": [
    "# SentiCR correlations\n",
    "##  Correlation between nr of messages and the sentiment of first message in the conversation"
   ]
  },
  {
   "cell_type": "code",
   "execution_count": 10,
   "id": "8430046e",
   "metadata": {},
   "outputs": [],
   "source": [
    "first_message_df = df.sort_values(by=['ts']).groupby(\"conversation_id\").first()\n",
    "count_and_text_df = response_df.join(first_message_df)\\\n",
    ".rename(columns={\"text\": \"first_message\", \"user\": \"user_first_message\", \"ts\": \"ts_first_message\"})"
   ]
  },
  {
   "cell_type": "code",
   "execution_count": 11,
   "id": "79092c07",
   "metadata": {},
   "outputs": [
    {
     "data": {
      "text/html": [
       "<div>\n",
       "<style scoped>\n",
       "    .dataframe tbody tr th:only-of-type {\n",
       "        vertical-align: middle;\n",
       "    }\n",
       "\n",
       "    .dataframe tbody tr th {\n",
       "        vertical-align: top;\n",
       "    }\n",
       "\n",
       "    .dataframe thead th {\n",
       "        text-align: right;\n",
       "    }\n",
       "</style>\n",
       "<table border=\"1\" class=\"dataframe\">\n",
       "  <thead>\n",
       "    <tr style=\"text-align: right;\">\n",
       "      <th></th>\n",
       "      <th>nr_messages</th>\n",
       "      <th>ts_first_message</th>\n",
       "      <th>user_first_message</th>\n",
       "      <th>first_message</th>\n",
       "    </tr>\n",
       "    <tr>\n",
       "      <th>conversation_id</th>\n",
       "      <th></th>\n",
       "      <th></th>\n",
       "      <th></th>\n",
       "      <th></th>\n",
       "    </tr>\n",
       "  </thead>\n",
       "  <tbody>\n",
       "    <tr>\n",
       "      <th>1.0</th>\n",
       "      <td>7</td>\n",
       "      <td>2020-08-01T00:01:15.595000</td>\n",
       "      <td>Samarie</td>\n",
       "      <td>{{ with .Data }} also works</td>\n",
       "    </tr>\n",
       "    <tr>\n",
       "      <th>2.0</th>\n",
       "      <td>7</td>\n",
       "      <td>2020-08-01T01:09:01.202000</td>\n",
       "      <td>Reeves</td>\n",
       "      <td>Hwllo</td>\n",
       "    </tr>\n",
       "    <tr>\n",
       "      <th>3.0</th>\n",
       "      <td>2</td>\n",
       "      <td>2020-08-01T01:27:32.834000</td>\n",
       "      <td>Treysen</td>\n",
       "      <td>The built in proxy stuff is nice</td>\n",
       "    </tr>\n",
       "    <tr>\n",
       "      <th>4.0</th>\n",
       "      <td>85</td>\n",
       "      <td>2020-08-01T02:00:57.155000</td>\n",
       "      <td>Josselin</td>\n",
       "      <td>probably</td>\n",
       "    </tr>\n",
       "    <tr>\n",
       "      <th>5.0</th>\n",
       "      <td>1</td>\n",
       "      <td>2020-08-01T03:17:19.489000</td>\n",
       "      <td>Maiana</td>\n",
       "      <td>i've codegened &gt; 600 go files that all wrap in...</td>\n",
       "    </tr>\n",
       "  </tbody>\n",
       "</table>\n",
       "</div>"
      ],
      "text/plain": [
       "                 nr_messages            ts_first_message user_first_message  \\\n",
       "conversation_id                                                               \n",
       "1.0                        7  2020-08-01T00:01:15.595000            Samarie   \n",
       "2.0                        7  2020-08-01T01:09:01.202000             Reeves   \n",
       "3.0                        2  2020-08-01T01:27:32.834000            Treysen   \n",
       "4.0                       85  2020-08-01T02:00:57.155000           Josselin   \n",
       "5.0                        1  2020-08-01T03:17:19.489000             Maiana   \n",
       "\n",
       "                                                     first_message  \n",
       "conversation_id                                                     \n",
       "1.0                                    {{ with .Data }} also works  \n",
       "2.0                                                          Hwllo  \n",
       "3.0                               The built in proxy stuff is nice  \n",
       "4.0                                                       probably  \n",
       "5.0              i've codegened > 600 go files that all wrap in...  "
      ]
     },
     "execution_count": 11,
     "metadata": {},
     "output_type": "execute_result"
    }
   ],
   "source": [
    "count_and_text_df.head()"
   ]
  },
  {
   "cell_type": "code",
   "execution_count": 12,
   "id": "1001649c",
   "metadata": {},
   "outputs": [
    {
     "name": "stdout",
     "output_type": "stream",
     "text": [
      "Predicting sentiment with sentiCR on first message of every conversation\n",
      "Prediction used 4.19 seconds\n"
     ]
    },
    {
     "data": {
      "text/html": [
       "<div>\n",
       "<style scoped>\n",
       "    .dataframe tbody tr th:only-of-type {\n",
       "        vertical-align: middle;\n",
       "    }\n",
       "\n",
       "    .dataframe tbody tr th {\n",
       "        vertical-align: top;\n",
       "    }\n",
       "\n",
       "    .dataframe thead th {\n",
       "        text-align: right;\n",
       "    }\n",
       "</style>\n",
       "<table border=\"1\" class=\"dataframe\">\n",
       "  <thead>\n",
       "    <tr style=\"text-align: right;\">\n",
       "      <th></th>\n",
       "      <th>nr_messages</th>\n",
       "      <th>ts_first_message</th>\n",
       "      <th>user_first_message</th>\n",
       "      <th>first_message</th>\n",
       "      <th>sentiCR</th>\n",
       "    </tr>\n",
       "    <tr>\n",
       "      <th>conversation_id</th>\n",
       "      <th></th>\n",
       "      <th></th>\n",
       "      <th></th>\n",
       "      <th></th>\n",
       "      <th></th>\n",
       "    </tr>\n",
       "  </thead>\n",
       "  <tbody>\n",
       "    <tr>\n",
       "      <th>1.0</th>\n",
       "      <td>7</td>\n",
       "      <td>2020-08-01T00:01:15.595000</td>\n",
       "      <td>Samarie</td>\n",
       "      <td>{{ with .Data }} also works</td>\n",
       "      <td>1</td>\n",
       "    </tr>\n",
       "    <tr>\n",
       "      <th>2.0</th>\n",
       "      <td>7</td>\n",
       "      <td>2020-08-01T01:09:01.202000</td>\n",
       "      <td>Reeves</td>\n",
       "      <td>Hwllo</td>\n",
       "      <td>0</td>\n",
       "    </tr>\n",
       "    <tr>\n",
       "      <th>3.0</th>\n",
       "      <td>2</td>\n",
       "      <td>2020-08-01T01:27:32.834000</td>\n",
       "      <td>Treysen</td>\n",
       "      <td>The built in proxy stuff is nice</td>\n",
       "      <td>0</td>\n",
       "    </tr>\n",
       "    <tr>\n",
       "      <th>4.0</th>\n",
       "      <td>85</td>\n",
       "      <td>2020-08-01T02:00:57.155000</td>\n",
       "      <td>Josselin</td>\n",
       "      <td>probably</td>\n",
       "      <td>0</td>\n",
       "    </tr>\n",
       "    <tr>\n",
       "      <th>5.0</th>\n",
       "      <td>1</td>\n",
       "      <td>2020-08-01T03:17:19.489000</td>\n",
       "      <td>Maiana</td>\n",
       "      <td>i've codegened &gt; 600 go files that all wrap in...</td>\n",
       "      <td>0</td>\n",
       "    </tr>\n",
       "  </tbody>\n",
       "</table>\n",
       "</div>"
      ],
      "text/plain": [
       "                 nr_messages            ts_first_message user_first_message  \\\n",
       "conversation_id                                                               \n",
       "1.0                        7  2020-08-01T00:01:15.595000            Samarie   \n",
       "2.0                        7  2020-08-01T01:09:01.202000             Reeves   \n",
       "3.0                        2  2020-08-01T01:27:32.834000            Treysen   \n",
       "4.0                       85  2020-08-01T02:00:57.155000           Josselin   \n",
       "5.0                        1  2020-08-01T03:17:19.489000             Maiana   \n",
       "\n",
       "                                                     first_message  sentiCR  \n",
       "conversation_id                                                              \n",
       "1.0                                    {{ with .Data }} also works        1  \n",
       "2.0                                                          Hwllo        0  \n",
       "3.0                               The built in proxy stuff is nice        0  \n",
       "4.0                                                       probably        0  \n",
       "5.0              i've codegened > 600 go files that all wrap in...        0  "
      ]
     },
     "execution_count": 12,
     "metadata": {},
     "output_type": "execute_result"
    }
   ],
   "source": [
    "print(\"Predicting sentiment with sentiCR on first message of every conversation\")\n",
    "predictions = predict_sentiCR(count_and_text_df)\n",
    "def Extract(lst):\n",
    "    return [item[0] for item in lst]\n",
    "df_with_sentiment = count_and_text_df.copy()\n",
    "df_with_sentiment['sentiCR'] = Extract(predictions)\n",
    "# Replace 2 with -1 as 2 is negative according to this model\n",
    "df_with_sentiment['sentiCR'] = df_with_sentiment['sentiCR'].replace({2: -1})\n",
    "df_with_sentiment.head()"
   ]
  },
  {
   "cell_type": "code",
   "execution_count": 13,
   "id": "f1411e1a",
   "metadata": {
    "scrolled": false
   },
   "outputs": [
    {
     "name": "stdout",
     "output_type": "stream",
     "text": [
      "The correlation between the nr messages inside a conversation \n",
      "and the sentiCR score of the first message is -0.0455387783444905\n"
     ]
    }
   ],
   "source": [
    "corr=df_with_sentiment['nr_messages'].corr(df_with_sentiment['sentiCR'])\n",
    "print(f\"The correlation between the nr messages inside a conversation \\nand the sentiCR score of the first message is {corr}\")"
   ]
  },
  {
   "cell_type": "markdown",
   "id": "0c2f1a31",
   "metadata": {},
   "source": [
    "## Correlation between avg sentiment and nr of messages in conversation"
   ]
  },
  {
   "cell_type": "code",
   "execution_count": 16,
   "id": "5fd465d8",
   "metadata": {},
   "outputs": [
    {
     "data": {
      "text/html": [
       "<div>\n",
       "<style scoped>\n",
       "    .dataframe tbody tr th:only-of-type {\n",
       "        vertical-align: middle;\n",
       "    }\n",
       "\n",
       "    .dataframe tbody tr th {\n",
       "        vertical-align: top;\n",
       "    }\n",
       "\n",
       "    .dataframe thead th {\n",
       "        text-align: right;\n",
       "    }\n",
       "</style>\n",
       "<table border=\"1\" class=\"dataframe\">\n",
       "  <thead>\n",
       "    <tr style=\"text-align: right;\">\n",
       "      <th></th>\n",
       "      <th>ID</th>\n",
       "      <th>sentiCR</th>\n",
       "      <th>nr_messages</th>\n",
       "    </tr>\n",
       "    <tr>\n",
       "      <th>conversation_id</th>\n",
       "      <th></th>\n",
       "      <th></th>\n",
       "      <th></th>\n",
       "    </tr>\n",
       "  </thead>\n",
       "  <tbody>\n",
       "    <tr>\n",
       "      <th>1.0</th>\n",
       "      <td>7.000000</td>\n",
       "      <td>2.000000</td>\n",
       "      <td>7</td>\n",
       "    </tr>\n",
       "    <tr>\n",
       "      <th>2.0</th>\n",
       "      <td>14.000000</td>\n",
       "      <td>1.857143</td>\n",
       "      <td>7</td>\n",
       "    </tr>\n",
       "    <tr>\n",
       "      <th>3.0</th>\n",
       "      <td>18.500000</td>\n",
       "      <td>2.000000</td>\n",
       "      <td>2</td>\n",
       "    </tr>\n",
       "    <tr>\n",
       "      <th>4.0</th>\n",
       "      <td>63.529412</td>\n",
       "      <td>1.905882</td>\n",
       "      <td>85</td>\n",
       "    </tr>\n",
       "    <tr>\n",
       "      <th>5.0</th>\n",
       "      <td>33.000000</td>\n",
       "      <td>2.000000</td>\n",
       "      <td>1</td>\n",
       "    </tr>\n",
       "    <tr>\n",
       "      <th>...</th>\n",
       "      <td>...</td>\n",
       "      <td>...</td>\n",
       "      <td>...</td>\n",
       "    </tr>\n",
       "    <tr>\n",
       "      <th>1911.0</th>\n",
       "      <td>59922.000000</td>\n",
       "      <td>1.000000</td>\n",
       "      <td>1</td>\n",
       "    </tr>\n",
       "    <tr>\n",
       "      <th>1912.0</th>\n",
       "      <td>60023.500000</td>\n",
       "      <td>2.000000</td>\n",
       "      <td>4</td>\n",
       "    </tr>\n",
       "    <tr>\n",
       "      <th>1913.0</th>\n",
       "      <td>60034.500000</td>\n",
       "      <td>1.916667</td>\n",
       "      <td>12</td>\n",
       "    </tr>\n",
       "    <tr>\n",
       "      <th>1914.0</th>\n",
       "      <td>60054.076923</td>\n",
       "      <td>2.038462</td>\n",
       "      <td>26</td>\n",
       "    </tr>\n",
       "    <tr>\n",
       "      <th>1915.0</th>\n",
       "      <td>60073.562500</td>\n",
       "      <td>2.000000</td>\n",
       "      <td>16</td>\n",
       "    </tr>\n",
       "  </tbody>\n",
       "</table>\n",
       "<p>1915 rows × 3 columns</p>\n",
       "</div>"
      ],
      "text/plain": [
       "                           ID   sentiCR  nr_messages\n",
       "conversation_id                                     \n",
       "1.0                  7.000000  2.000000            7\n",
       "2.0                 14.000000  1.857143            7\n",
       "3.0                 18.500000  2.000000            2\n",
       "4.0                 63.529412  1.905882           85\n",
       "5.0                 33.000000  2.000000            1\n",
       "...                       ...       ...          ...\n",
       "1911.0           59922.000000  1.000000            1\n",
       "1912.0           60023.500000  2.000000            4\n",
       "1913.0           60034.500000  1.916667           12\n",
       "1914.0           60054.076923  2.038462           26\n",
       "1915.0           60073.562500  2.000000           16\n",
       "\n",
       "[1915 rows x 3 columns]"
      ]
     },
     "execution_count": 16,
     "metadata": {},
     "output_type": "execute_result"
    }
   ],
   "source": [
    "avg_senti_df = df_sentiCR.copy()\n",
    "avg_senti_df['sentiCR'] += 2 # Plus two otherwise one 0 in the conversation will directly lead to a mean of 0 \n",
    "avg_senti_df = avg_senti_df.groupby('conversation_id').mean()\n",
    "avg_senti_df['nr_messages'] = response_df\n",
    "avg_senti_df"
   ]
  },
  {
   "cell_type": "code",
   "execution_count": 17,
   "id": "a09c2286",
   "metadata": {},
   "outputs": [
    {
     "data": {
      "text/plain": [
       "-0.013144482517522031"
      ]
     },
     "execution_count": 17,
     "metadata": {},
     "output_type": "execute_result"
    }
   ],
   "source": [
    "corr=avg_senti_df['nr_messages'].corr(avg_senti_df['sentiCR'])\n",
    "corr"
   ]
  },
  {
   "cell_type": "markdown",
   "id": "3c63d5f4",
   "metadata": {},
   "source": [
    "# Senti4SD correlations\n",
    "##  Correlation between nr of messages and the sentiment of first message in the conversation"
   ]
  },
  {
   "cell_type": "code",
   "execution_count": 23,
   "id": "8bdc41ab",
   "metadata": {
    "scrolled": true
   },
   "outputs": [
    {
     "data": {
      "text/html": [
       "<div>\n",
       "<style scoped>\n",
       "    .dataframe tbody tr th:only-of-type {\n",
       "        vertical-align: middle;\n",
       "    }\n",
       "\n",
       "    .dataframe tbody tr th {\n",
       "        vertical-align: top;\n",
       "    }\n",
       "\n",
       "    .dataframe thead th {\n",
       "        text-align: right;\n",
       "    }\n",
       "</style>\n",
       "<table border=\"1\" class=\"dataframe\">\n",
       "  <thead>\n",
       "    <tr style=\"text-align: right;\">\n",
       "      <th></th>\n",
       "      <th>nr_messages</th>\n",
       "      <th>ts_first_message</th>\n",
       "      <th>user_first_message</th>\n",
       "      <th>first_message</th>\n",
       "      <th>senti4SD</th>\n",
       "    </tr>\n",
       "    <tr>\n",
       "      <th>conversation_id</th>\n",
       "      <th></th>\n",
       "      <th></th>\n",
       "      <th></th>\n",
       "      <th></th>\n",
       "      <th></th>\n",
       "    </tr>\n",
       "  </thead>\n",
       "  <tbody>\n",
       "    <tr>\n",
       "      <th>1.0</th>\n",
       "      <td>7</td>\n",
       "      <td>2020-08-01T00:01:15.595000</td>\n",
       "      <td>Samarie</td>\n",
       "      <td>{{ with .Data }} also works</td>\n",
       "      <td>0</td>\n",
       "    </tr>\n",
       "    <tr>\n",
       "      <th>2.0</th>\n",
       "      <td>7</td>\n",
       "      <td>2020-08-01T01:09:01.202000</td>\n",
       "      <td>Reeves</td>\n",
       "      <td>Hwllo</td>\n",
       "      <td>0</td>\n",
       "    </tr>\n",
       "    <tr>\n",
       "      <th>3.0</th>\n",
       "      <td>2</td>\n",
       "      <td>2020-08-01T01:27:32.834000</td>\n",
       "      <td>Treysen</td>\n",
       "      <td>The built in proxy stuff is nice</td>\n",
       "      <td>1</td>\n",
       "    </tr>\n",
       "    <tr>\n",
       "      <th>4.0</th>\n",
       "      <td>85</td>\n",
       "      <td>2020-08-01T02:00:57.155000</td>\n",
       "      <td>Josselin</td>\n",
       "      <td>probably</td>\n",
       "      <td>0</td>\n",
       "    </tr>\n",
       "    <tr>\n",
       "      <th>5.0</th>\n",
       "      <td>1</td>\n",
       "      <td>2020-08-01T03:17:19.489000</td>\n",
       "      <td>Maiana</td>\n",
       "      <td>i've codegened &gt; 600 go files that all wrap in...</td>\n",
       "      <td>-1</td>\n",
       "    </tr>\n",
       "  </tbody>\n",
       "</table>\n",
       "</div>"
      ],
      "text/plain": [
       "                 nr_messages            ts_first_message user_first_message  \\\n",
       "conversation_id                                                               \n",
       "1.0                        7  2020-08-01T00:01:15.595000            Samarie   \n",
       "2.0                        7  2020-08-01T01:09:01.202000             Reeves   \n",
       "3.0                        2  2020-08-01T01:27:32.834000            Treysen   \n",
       "4.0                       85  2020-08-01T02:00:57.155000           Josselin   \n",
       "5.0                        1  2020-08-01T03:17:19.489000             Maiana   \n",
       "\n",
       "                                                     first_message  senti4SD  \n",
       "conversation_id                                                               \n",
       "1.0                                    {{ with .Data }} also works         0  \n",
       "2.0                                                          Hwllo         0  \n",
       "3.0                               The built in proxy stuff is nice         1  \n",
       "4.0                                                       probably         0  \n",
       "5.0              i've codegened > 600 go files that all wrap in...        -1  "
      ]
     },
     "execution_count": 23,
     "metadata": {},
     "output_type": "execute_result"
    }
   ],
   "source": [
    "first_msg_senti4SD = senti4SD_df.sort_values(by=['ts']).groupby(\"conversation_id\").first()\n",
    "SD_conv_text_df = response_df.join(first_msg_senti4SD)\\\n",
    ".rename(columns={\"text\": \"first_message\", \"user\": \"user_first_message\", \"ts\": \"ts_first_message\"})\n",
    "SD_conv_text_df.head()"
   ]
  },
  {
   "cell_type": "code",
   "execution_count": 24,
   "id": "36ab6a83",
   "metadata": {},
   "outputs": [
    {
     "name": "stdout",
     "output_type": "stream",
     "text": [
      "The correlation between the nr messages inside a conversation \n",
      "and the senti4SD score of the first message is -0.02342402019049213\n"
     ]
    }
   ],
   "source": [
    "corr=SD_conv_text_df['nr_messages'].corr(SD_conv_text_df['senti4SD'])\n",
    "print(f\"The correlation between the nr messages inside a conversation \\nand the senti4SD score of the first message is {corr}\")"
   ]
  },
  {
   "cell_type": "markdown",
   "id": "a94fbbe9",
   "metadata": {},
   "source": [
    "## Correlation between avg sentiment and nr of messages in conversation"
   ]
  },
  {
   "cell_type": "code",
   "execution_count": 21,
   "id": "7935b6c4",
   "metadata": {},
   "outputs": [
    {
     "data": {
      "text/html": [
       "<div>\n",
       "<style scoped>\n",
       "    .dataframe tbody tr th:only-of-type {\n",
       "        vertical-align: middle;\n",
       "    }\n",
       "\n",
       "    .dataframe tbody tr th {\n",
       "        vertical-align: top;\n",
       "    }\n",
       "\n",
       "    .dataframe thead th {\n",
       "        text-align: right;\n",
       "    }\n",
       "</style>\n",
       "<table border=\"1\" class=\"dataframe\">\n",
       "  <thead>\n",
       "    <tr style=\"text-align: right;\">\n",
       "      <th></th>\n",
       "      <th>senti4SD</th>\n",
       "      <th>nr_messages</th>\n",
       "    </tr>\n",
       "    <tr>\n",
       "      <th>conversation_id</th>\n",
       "      <th></th>\n",
       "      <th></th>\n",
       "    </tr>\n",
       "  </thead>\n",
       "  <tbody>\n",
       "    <tr>\n",
       "      <th>1.0</th>\n",
       "      <td>2.285714</td>\n",
       "      <td>7</td>\n",
       "    </tr>\n",
       "    <tr>\n",
       "      <th>2.0</th>\n",
       "      <td>2.142857</td>\n",
       "      <td>7</td>\n",
       "    </tr>\n",
       "    <tr>\n",
       "      <th>3.0</th>\n",
       "      <td>3.000000</td>\n",
       "      <td>2</td>\n",
       "    </tr>\n",
       "    <tr>\n",
       "      <th>4.0</th>\n",
       "      <td>2.023529</td>\n",
       "      <td>85</td>\n",
       "    </tr>\n",
       "    <tr>\n",
       "      <th>5.0</th>\n",
       "      <td>1.000000</td>\n",
       "      <td>1</td>\n",
       "    </tr>\n",
       "  </tbody>\n",
       "</table>\n",
       "</div>"
      ],
      "text/plain": [
       "                 senti4SD  nr_messages\n",
       "conversation_id                       \n",
       "1.0              2.285714            7\n",
       "2.0              2.142857            7\n",
       "3.0              3.000000            2\n",
       "4.0              2.023529           85\n",
       "5.0              1.000000            1"
      ]
     },
     "execution_count": 21,
     "metadata": {},
     "output_type": "execute_result"
    }
   ],
   "source": [
    "avg_4sd_df = senti4SD_df.copy()\n",
    "avg_4sd_df['senti4SD'] += 2 # Plus two otherwise one 0 in the conversation will directly lead to a mean of 0 \n",
    "avg_4sd_df = avg_4sd_df.groupby('conversation_id').mean()\n",
    "avg_4sd_df['nr_messages'] = response_df\n",
    "avg_4sd_df.head()"
   ]
  },
  {
   "cell_type": "code",
   "execution_count": 22,
   "id": "ab669898",
   "metadata": {
    "scrolled": true
   },
   "outputs": [
    {
     "name": "stdout",
     "output_type": "stream",
     "text": [
      "The correlation between the average senti4SD and the number of messages in the conversation is -0.02096483351462585\n"
     ]
    }
   ],
   "source": [
    "corr=avg_4sd_df['nr_messages'].corr(avg_4sd_df['senti4SD'])\n",
    "print(f\"The correlation between the average senti4SD and the number of messages in the conversation is {corr}\")"
   ]
  },
  {
   "cell_type": "markdown",
   "id": "78b385b0",
   "metadata": {},
   "source": [
    "# Per question"
   ]
  },
  {
   "cell_type": "code",
   "execution_count": 30,
   "id": "2da617c2",
   "metadata": {},
   "outputs": [
    {
     "name": "stdout",
     "output_type": "stream",
     "text": [
      "Showing only questions within the sentiCR df:\n"
     ]
    },
    {
     "data": {
      "text/html": [
       "<div>\n",
       "<style scoped>\n",
       "    .dataframe tbody tr th:only-of-type {\n",
       "        vertical-align: middle;\n",
       "    }\n",
       "\n",
       "    .dataframe tbody tr th {\n",
       "        vertical-align: top;\n",
       "    }\n",
       "\n",
       "    .dataframe thead th {\n",
       "        text-align: right;\n",
       "    }\n",
       "</style>\n",
       "<table border=\"1\" class=\"dataframe\">\n",
       "  <thead>\n",
       "    <tr style=\"text-align: right;\">\n",
       "      <th></th>\n",
       "      <th>ID</th>\n",
       "      <th>conversation_id</th>\n",
       "      <th>ts</th>\n",
       "      <th>user</th>\n",
       "      <th>text</th>\n",
       "      <th>sentiCR</th>\n",
       "    </tr>\n",
       "  </thead>\n",
       "  <tbody>\n",
       "    <tr>\n",
       "      <th>9</th>\n",
       "      <td>13</td>\n",
       "      <td>2.0</td>\n",
       "      <td>2020-08-01T01:09:29.986000</td>\n",
       "      <td>Reeves</td>\n",
       "      <td>I am finding imposible chaining proxies with n...</td>\n",
       "      <td>0</td>\n",
       "    </tr>\n",
       "    <tr>\n",
       "      <th>29</th>\n",
       "      <td>33</td>\n",
       "      <td>5.0</td>\n",
       "      <td>2020-08-01T03:17:19.489000</td>\n",
       "      <td>Maiana</td>\n",
       "      <td>i've codegened &gt; 600 go files that all wrap in...</td>\n",
       "      <td>0</td>\n",
       "    </tr>\n",
       "    <tr>\n",
       "      <th>47</th>\n",
       "      <td>51</td>\n",
       "      <td>4.0</td>\n",
       "      <td>2020-08-01T03:40:44.702000</td>\n",
       "      <td>Maiana</td>\n",
       "      <td>@_diamondburned_ do you think squeezing the go...</td>\n",
       "      <td>0</td>\n",
       "    </tr>\n",
       "    <tr>\n",
       "      <th>48</th>\n",
       "      <td>52</td>\n",
       "      <td>6.0</td>\n",
       "      <td>2020-08-01T03:41:52.495000</td>\n",
       "      <td>Cephas</td>\n",
       "      <td>im displaying this in a HTML where there\\'s a ...</td>\n",
       "      <td>0</td>\n",
       "    </tr>\n",
       "    <tr>\n",
       "      <th>49</th>\n",
       "      <td>53</td>\n",
       "      <td>4.0</td>\n",
       "      <td>2020-08-01T03:42:55.236000</td>\n",
       "      <td>Cephas</td>\n",
       "      <td>(the struct has no ID and some data pointers a...</td>\n",
       "      <td>0</td>\n",
       "    </tr>\n",
       "  </tbody>\n",
       "</table>\n",
       "</div>"
      ],
      "text/plain": [
       "    ID  conversation_id                          ts    user  \\\n",
       "9   13              2.0  2020-08-01T01:09:29.986000  Reeves   \n",
       "29  33              5.0  2020-08-01T03:17:19.489000  Maiana   \n",
       "47  51              4.0  2020-08-01T03:40:44.702000  Maiana   \n",
       "48  52              6.0  2020-08-01T03:41:52.495000  Cephas   \n",
       "49  53              4.0  2020-08-01T03:42:55.236000  Cephas   \n",
       "\n",
       "                                                 text  sentiCR  \n",
       "9   I am finding imposible chaining proxies with n...        0  \n",
       "29  i've codegened > 600 go files that all wrap in...        0  \n",
       "47  @_diamondburned_ do you think squeezing the go...        0  \n",
       "48  im displaying this in a HTML where there\\'s a ...        0  \n",
       "49  (the struct has no ID and some data pointers a...        0  "
      ]
     },
     "execution_count": 30,
     "metadata": {},
     "output_type": "execute_result"
    }
   ],
   "source": [
    "questions = df_sentiCR[\"text\"].str.contains(\"?\", regex=False).astype(int)\n",
    "print(\"Showing only questions within the sentiCR df:\")\n",
    "df_sentiCR_questions = df_sentiCR[questions == 1]\n",
    "df_sentiCR_questions.head()"
   ]
  },
  {
   "cell_type": "code",
   "execution_count": 58,
   "id": "751c4859",
   "metadata": {},
   "outputs": [],
   "source": [
    "response_df_reset = response_df.reset_index()\n",
    "# df_sentiCR_questions.join(response_df_reset, on='conversation_id')\n",
    "question_sentiCR_df = df_sentiCR_questions.merge(response_df_reset, how='inner', on='conversation_id')"
   ]
  },
  {
   "cell_type": "code",
   "execution_count": 59,
   "id": "a5db0129",
   "metadata": {},
   "outputs": [
    {
     "name": "stdout",
     "output_type": "stream",
     "text": [
      "The correlation between a questions sentiCR and the number of messages in the conversation is 0.013647948199097187\n"
     ]
    }
   ],
   "source": [
    "corr=question_sentiCR_df['nr_messages'].corr(question_sentiCR_df['sentiCR'])\n",
    "print(f\"The correlation between a questions sentiCR and the number of messages in the conversation is {corr}\")"
   ]
  },
  {
   "cell_type": "code",
   "execution_count": null,
   "id": "87899bfc",
   "metadata": {},
   "outputs": [],
   "source": []
  }
 ],
 "metadata": {
  "kernelspec": {
   "display_name": "Python 3 (ipykernel)",
   "language": "python",
   "name": "python3"
  },
  "language_info": {
   "codemirror_mode": {
    "name": "ipython",
    "version": 3
   },
   "file_extension": ".py",
   "mimetype": "text/x-python",
   "name": "python",
   "nbconvert_exporter": "python",
   "pygments_lexer": "ipython3",
   "version": "3.7.15"
  }
 },
 "nbformat": 4,
 "nbformat_minor": 5
}
